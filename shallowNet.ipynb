{
  "cells": [
    {
      "cell_type": "markdown",
      "metadata": {
        "id": "view-in-github",
        "colab_type": "text"
      },
      "source": [
        "<a href=\"https://colab.research.google.com/github/helenason/CNN-shallowNet/blob/main/shallowNet.ipynb\" target=\"_parent\"><img src=\"https://colab.research.google.com/assets/colab-badge.svg\" alt=\"Open In Colab\"/></a>"
      ]
    },
    {
      "cell_type": "code",
      "execution_count": 1,
      "metadata": {
        "id": "cfZ_6fYDLs_D"
      },
      "outputs": [],
      "source": [
        "import tensorflow as tf\n",
        "\n",
        "import keras\n",
        "from keras.models import Sequential\n",
        "from keras.layers import Conv2D, MaxPooling2D, AveragePooling2D\n",
        "from keras.layers import Dense, Activation, Dropout, Flatten\n",
        "\n",
        "from keras.preprocessing import image\n",
        "from keras.preprocessing.image import ImageDataGenerator\n",
        "import pandas as pd\n",
        "import numpy as np\n",
        "import matplotlib.pyplot as plt"
      ]
    },
    {
      "cell_type": "code",
      "source": [],
      "metadata": {
        "id": "E-APzAJm4efj"
      },
      "execution_count": 1,
      "outputs": []
    },
    {
      "cell_type": "code",
      "source": [
        "from google.colab import drive\n",
        "drive.mount('/content/gdrive')\n",
        "filname = '/content/gdrive/MyDrive/Colab Notebooks/data/fer2013.csv'"
      ],
      "metadata": {
        "colab": {
          "base_uri": "https://localhost:8080/"
        },
        "id": "AMvC9oMX4f0n",
        "outputId": "06d92c9b-9fbd-40f0-85f2-5147865c0469"
      },
      "execution_count": 2,
      "outputs": [
        {
          "output_type": "stream",
          "name": "stdout",
          "text": [
            "Mounted at /content/gdrive\n"
          ]
        }
      ]
    },
    {
      "cell_type": "code",
      "execution_count": 3,
      "metadata": {
        "colab": {
          "base_uri": "https://localhost:8080/"
        },
        "id": "G1s60gkcLtBG",
        "outputId": "2218c684-0a61-464d-e2dd-4410897282e9"
      },
      "outputs": [
        {
          "output_type": "execute_result",
          "data": {
            "text/plain": [
              "(35888, 3)"
            ]
          },
          "metadata": {},
          "execution_count": 3
        }
      ],
      "source": [
        "label_map = ['Anger', 'Disgust', 'Fear', 'Happy', 'Sad', 'Surprise', 'Neutral']\n",
        "names = ['emotion','pixels', 'usage']\n",
        "df = pd.read_csv(filname,names=names, na_filter=False)\n",
        "im = df['pixels']\n",
        "df.head(10)\n",
        "df.shape"
      ]
    },
    {
      "cell_type": "code",
      "source": [
        "def getData(filname):\n",
        "    # images are 48x48\n",
        "    # N = 35887\n",
        "    Y = []\n",
        "    X = []\n",
        "    first = True\n",
        "    for line in open(filname):\n",
        "        if first:\n",
        "            first = False\n",
        "        else:\n",
        "            row = line.split(',')\n",
        "            Y.append(int(row[0]))\n",
        "            X.append([int(p) / 255.0 for p in row[1].split()])\n",
        "\n",
        "    X, Y = np.array(X), np.array(Y)\n",
        "    return X, Y"
      ],
      "metadata": {
        "id": "NmkTOxVnv7HS"
      },
      "execution_count": 4,
      "outputs": []
    },
    {
      "cell_type": "code",
      "execution_count": 5,
      "metadata": {
        "id": "A5YPY2s7LtFb",
        "outputId": "032467ed-201e-4afb-ae58-46068c4d8449",
        "colab": {
          "base_uri": "https://localhost:8080/"
        }
      },
      "outputs": [
        {
          "output_type": "stream",
          "name": "stdout",
          "text": [
            "(35887, 2304)\n",
            "(35887,)\n",
            "7\n"
          ]
        }
      ],
      "source": [
        "X, Y = getData(filname)\n",
        "print(X.shape)\n",
        "print(Y.shape)\n",
        "num_class = len(set(Y))\n",
        "print(num_class)"
      ]
    },
    {
      "cell_type": "code",
      "execution_count": 6,
      "metadata": {
        "id": "GS-KDDxbLtHC"
      },
      "outputs": [],
      "source": [
        "N, D = X.shape\n",
        "X = X.reshape(N, 48, 48, 1)"
      ]
    },
    {
      "cell_type": "code",
      "execution_count": 7,
      "metadata": {
        "id": "3yZto8YDLtI2"
      },
      "outputs": [],
      "source": [
        "from sklearn.model_selection import train_test_split\n",
        "\n",
        "X_train, X_test, y_train, y_test = train_test_split(X, Y, test_size=0.1, random_state=0)\n",
        "y_train = (np.arange(num_class) == y_train[:, None]).astype(np.float32)\n",
        "y_test = (np.arange(num_class) == y_test[:, None]).astype(np.float32)"
      ]
    },
    {
      "cell_type": "code",
      "execution_count": 8,
      "metadata": {
        "id": "p366UjQhLtKh"
      },
      "outputs": [],
      "source": [
        "from keras.models import Sequential\n",
        "from keras.layers import Dense , Activation , Dropout ,Flatten\n",
        "from keras.layers.convolutional import Conv2D\n",
        "from keras.layers.convolutional import MaxPooling2D\n",
        "from keras.metrics import categorical_accuracy\n",
        "from keras.models import model_from_json\n",
        "from keras.callbacks import ModelCheckpoint\n",
        "from keras.optimizers import *\n",
        "# from keras.layers.normalization import BatchNormalization\n",
        "from keras.layers import BatchNormalization\n",
        "# from keras import backend as K"
      ]
    },
    {
      "cell_type": "code",
      "source": [
        "# INPUT => CONV => MaxPooling => RELU => FC \n",
        "\n",
        "def shallow_model():\n",
        "    model = Sequential()\n",
        "    input_shape = (48, 48, 1)\n",
        "    model.add(Conv2D(64, (5, 5), padding='same', activation='relu', input_shape=input_shape))\n",
        "    model.add(MaxPooling2D(pool_size=(2, 2), strides=2))\n",
        "    model.add(Flatten())\n",
        "    model.add(Dense(7)) # 7: 클래스 개수\n",
        "    model.add(Activation('softmax'))\n",
        "\n",
        "    model.compile(loss='categorical_crossentropy', metrics=['accuracy'], optimizer='adam')\n",
        "    \n",
        "    return model\n",
        "\n",
        "model = shallow_model()\n",
        "model.summary()"
      ],
      "metadata": {
        "id": "TvDDjB127AUC",
        "colab": {
          "base_uri": "https://localhost:8080/"
        },
        "outputId": "e4257502-495e-4e73-c259-1c61c2ccbb6f"
      },
      "execution_count": 10,
      "outputs": [
        {
          "output_type": "stream",
          "name": "stdout",
          "text": [
            "Model: \"sequential\"\n",
            "_________________________________________________________________\n",
            " Layer (type)                Output Shape              Param #   \n",
            "=================================================================\n",
            " conv2d (Conv2D)             (None, 48, 48, 64)        1664      \n",
            "                                                                 \n",
            " max_pooling2d (MaxPooling2D  (None, 24, 24, 64)       0         \n",
            " )                                                               \n",
            "                                                                 \n",
            " flatten (Flatten)           (None, 36864)             0         \n",
            "                                                                 \n",
            " dense (Dense)               (None, 7)                 258055    \n",
            "                                                                 \n",
            " activation (Activation)     (None, 7)                 0         \n",
            "                                                                 \n",
            "=================================================================\n",
            "Total params: 259,719\n",
            "Trainable params: 259,719\n",
            "Non-trainable params: 0\n",
            "_________________________________________________________________\n"
          ]
        }
      ]
    },
    {
      "cell_type": "code",
      "execution_count": 11,
      "metadata": {
        "id": "0TvHlqBPLtNk",
        "colab": {
          "base_uri": "https://localhost:8080/"
        },
        "outputId": "26576bbe-e842-4376-8159-565a0b8f8136"
      },
      "outputs": [
        {
          "output_type": "stream",
          "name": "stdout",
          "text": [
            "Epoch 1/20\n",
            "505/505 [==============================] - 14s 6ms/step - loss: 1.6501 - accuracy: 0.3536 - val_loss: 1.5359 - val_accuracy: 0.4171\n",
            "Epoch 2/20\n",
            "505/505 [==============================] - 3s 6ms/step - loss: 1.4847 - accuracy: 0.4363 - val_loss: 1.4746 - val_accuracy: 0.4486\n",
            "Epoch 3/20\n",
            "505/505 [==============================] - 3s 6ms/step - loss: 1.3833 - accuracy: 0.4773 - val_loss: 1.4257 - val_accuracy: 0.4784\n",
            "Epoch 4/20\n",
            "505/505 [==============================] - 4s 8ms/step - loss: 1.3036 - accuracy: 0.5124 - val_loss: 1.4139 - val_accuracy: 0.4737\n",
            "Epoch 5/20\n",
            "505/505 [==============================] - 3s 7ms/step - loss: 1.2367 - accuracy: 0.5403 - val_loss: 1.4070 - val_accuracy: 0.4820\n",
            "Epoch 6/20\n",
            "505/505 [==============================] - 5s 10ms/step - loss: 1.1708 - accuracy: 0.5677 - val_loss: 1.4217 - val_accuracy: 0.4840\n",
            "Epoch 7/20\n",
            "505/505 [==============================] - 3s 6ms/step - loss: 1.1086 - accuracy: 0.5918 - val_loss: 1.4148 - val_accuracy: 0.4820\n",
            "Epoch 8/20\n",
            "505/505 [==============================] - 3s 5ms/step - loss: 1.0485 - accuracy: 0.6152 - val_loss: 1.4177 - val_accuracy: 0.4882\n",
            "Epoch 9/20\n",
            "505/505 [==============================] - 3s 5ms/step - loss: 0.9875 - accuracy: 0.6429 - val_loss: 1.4548 - val_accuracy: 0.4912\n",
            "Epoch 10/20\n",
            "505/505 [==============================] - 3s 6ms/step - loss: 0.9322 - accuracy: 0.6641 - val_loss: 1.4738 - val_accuracy: 0.4815\n",
            "Epoch 11/20\n",
            "505/505 [==============================] - 3s 6ms/step - loss: 0.8813 - accuracy: 0.6858 - val_loss: 1.4951 - val_accuracy: 0.4865\n",
            "Epoch 12/20\n",
            "505/505 [==============================] - 3s 5ms/step - loss: 0.8257 - accuracy: 0.7089 - val_loss: 1.5611 - val_accuracy: 0.4893\n",
            "Epoch 13/20\n",
            "505/505 [==============================] - 3s 5ms/step - loss: 0.7823 - accuracy: 0.7251 - val_loss: 1.6054 - val_accuracy: 0.4804\n",
            "Epoch 14/20\n",
            "505/505 [==============================] - 3s 5ms/step - loss: 0.7362 - accuracy: 0.7443 - val_loss: 1.5778 - val_accuracy: 0.5004\n",
            "Epoch 15/20\n",
            "505/505 [==============================] - 3s 6ms/step - loss: 0.6890 - accuracy: 0.7631 - val_loss: 1.6274 - val_accuracy: 0.4907\n",
            "Epoch 16/20\n",
            "505/505 [==============================] - 3s 6ms/step - loss: 0.6534 - accuracy: 0.7798 - val_loss: 1.6620 - val_accuracy: 0.4918\n",
            "Epoch 17/20\n",
            "505/505 [==============================] - 3s 5ms/step - loss: 0.6151 - accuracy: 0.7952 - val_loss: 1.7020 - val_accuracy: 0.4901\n",
            "Epoch 18/20\n",
            "505/505 [==============================] - 3s 5ms/step - loss: 0.5743 - accuracy: 0.8096 - val_loss: 1.7419 - val_accuracy: 0.5015\n",
            "Epoch 19/20\n",
            "505/505 [==============================] - 3s 6ms/step - loss: 0.5424 - accuracy: 0.8252 - val_loss: 1.7936 - val_accuracy: 0.4882\n",
            "Epoch 20/20\n",
            "505/505 [==============================] - 3s 7ms/step - loss: 0.5145 - accuracy: 0.8331 - val_loss: 1.8368 - val_accuracy: 0.4929\n"
          ]
        }
      ],
      "source": [
        "path_model='model_filter.h5' # save model at this location after each epoch\n",
        "keras.backend.clear_session() # destroys the current graph and builds a new one\n",
        "model = shallow_model() # create the model\n",
        "keras.backend.set_value(model.optimizer.lr, 1e-3) # set the learning rate\n",
        "\n",
        "h = model.fit(x=X_train,     \n",
        "            y=y_train, \n",
        "            batch_size=64, \n",
        "            epochs=20, \n",
        "            verbose=1, \n",
        "            validation_data=(X_test,y_test),\n",
        "            shuffle=True,\n",
        "            callbacks=[\n",
        "                ModelCheckpoint(filepath=path_model),\n",
        "            ]\n",
        ")"
      ]
    },
    {
      "cell_type": "code",
      "execution_count": 12,
      "metadata": {
        "id": "aM-tIFBRLtPS",
        "colab": {
          "base_uri": "https://localhost:8080/"
        },
        "outputId": "f2c643b1-1a09-4735-e9b0-eeaf127f1076"
      },
      "outputs": [
        {
          "output_type": "stream",
          "name": "stdout",
          "text": [
            "[0 1 2 3 4 5 6]\n"
          ]
        }
      ],
      "source": [
        "# objects = ('angry', 'disgust', 'fear', 'happy', 'sad', 'surprise', 'neutral')\n",
        "# y_pos = np.arange(len(objects))\n",
        "# print(y_pos)"
      ]
    },
    {
      "cell_type": "code",
      "execution_count": 13,
      "metadata": {
        "id": "MUZSYIWFLtS3"
      },
      "outputs": [],
      "source": [
        "# def emotion_analysis(emotions):\n",
        "#     objects = ['angry', 'disgust', 'fear', 'happy', 'sad', 'surprise', 'neutral']\n",
        "#     y_pos = np.arange(len(objects))\n",
        "\n",
        "#     plt.bar(y_pos, emotions, align='center', alpha=0.9)\n",
        "#     plt.tick_params(axis='x', which='both', pad=10,width=4,length=10)\n",
        "#     plt.xticks(y_pos, objects)\n",
        "#     plt.ylabel('percentage')\n",
        "#     plt.title('emotion')\n",
        "    \n",
        "#     plt.show()"
      ]
    },
    {
      "cell_type": "code",
      "execution_count": 14,
      "metadata": {
        "id": "Nq9XNZVUbBr8",
        "colab": {
          "base_uri": "https://localhost:8080/"
        },
        "outputId": "9e3a515d-4849-4620-8d25-6b018a157a3f"
      },
      "outputs": [
        {
          "output_type": "stream",
          "name": "stdout",
          "text": [
            "113/113 [==============================] - 0s 2ms/step\n"
          ]
        },
        {
          "output_type": "execute_result",
          "data": {
            "text/plain": [
              "(3589, 7)"
            ]
          },
          "metadata": {},
          "execution_count": 14
        }
      ],
      "source": [
        "# y_pred=model.predict(X_test)\n",
        "# #print(y_pred)\n",
        "# y_test.shape"
      ]
    },
    {
      "cell_type": "code",
      "execution_count": 16,
      "metadata": {
        "id": "sll0nr0jbCOx"
      },
      "outputs": [],
      "source": [
        "# import keras.utils as image\n",
        "\n",
        "# def showResult(addr, label) :\n",
        "\n",
        "#     img = image.load_img(addr, color_mode = \"grayscale\", target_size=(48, 48))\n",
        "#     show_img=image.load_img(addr, target_size=(200, 200))\n",
        "#     x = image.img_to_array(img)\n",
        "#     x = np.expand_dims(x, axis = 0)\n",
        "\n",
        "#     x /= 255\n",
        "\n",
        "#     custom = model.predict(x)\n",
        "#     # # print(custom[0])\n",
        "#     # emotion_analysis(custom[0])\n",
        "\n",
        "#     x = np.array(x, 'float32')\n",
        "#     x = x.reshape([48, 48]);\n",
        "\n",
        "#     # plt.gray()\n",
        "#     # plt.imshow(show_img)\n",
        "#     # plt.show()\n",
        "\n",
        "#     max_idx = 0\n",
        "#     m = 0.000000000000000000001\n",
        "#     a = custom[0]\n",
        "#     for i in range(0, len(a)): # max 찾기\n",
        "#         if a[i] > m:\n",
        "#             m = a[i]\n",
        "#             max_idx = i\n",
        "            \n",
        "#     # print('Expression Prediction:',objects[idx])\n",
        "\n",
        "#     if max_idx == label :\n",
        "#         return 1\n",
        "#     else :\n",
        "#         return 0\n",
        "\n",
        "\n",
        "# import os\n",
        "\n",
        "# accuracy = []\n",
        "# objects = ['angry', 'disgust', 'fear', 'happy', 'sad', 'surprise', 'neutral']\n",
        "\n",
        "# res = 0\n",
        "\n",
        "# for i, obj in enumerate(objects) :\n",
        "\n",
        "#     label = i\n",
        "\n",
        "#     address = f'/content/gdrive/MyDrive/Colab Notebooks/data/archive/test/test/{obj}/'\n",
        "\n",
        "#     images = os.listdir(address)\n",
        "\n",
        "#     for img in images :\n",
        "#         res += showResult(address + img, label)\n",
        "\n",
        "#     accuracy.append(res / len(images) * 100)\n",
        "    \n",
        "# for a in accuracy :\n",
        "#     print(a)"
      ]
    }
  ],
  "metadata": {
    "colab": {
      "provenance": [],
      "gpuType": "T4",
      "authorship_tag": "ABX9TyM18lKw+dr9bgBrEY+LaEXD",
      "include_colab_link": true
    },
    "gpuClass": "standard",
    "kernelspec": {
      "display_name": "Python 3",
      "name": "python3"
    },
    "language_info": {
      "name": "python"
    },
    "accelerator": "GPU"
  },
  "nbformat": 4,
  "nbformat_minor": 0
}